{
 "cells": [
  {
   "cell_type": "markdown",
   "metadata": {},
   "source": [
    "# Google Dialogflow Chatbot"
   ]
  },
  {
   "cell_type": "markdown",
   "metadata": {},
   "source": [
    "## What is chatbot ?"
   ]
  },
  {
   "cell_type": "markdown",
   "metadata": {},
   "source": [
    "A chatbot is a software application used to conduct an on-line chat conversation via text or text-to-speech, in lieu of providing direct contact with a live human agent"
   ]
  },
  {
   "cell_type": "markdown",
   "metadata": {},
   "source": [
    "## Use of chatbot"
   ]
  },
  {
   "cell_type": "markdown",
   "metadata": {},
   "source": [
    "Chatbots are being made to ease the pain that the industries are facing today. The purpose of chat bots is to support and scale business teams in their relations with customers. It could live in any major chat applications like Facebook Messenger, Slack, Telegram, Text Messages, etc."
   ]
  },
  {
   "cell_type": "markdown",
   "metadata": {},
   "source": [
    "## Frameworks "
   ]
  },
  {
   "cell_type": "markdown",
   "metadata": {},
   "source": [
    "a)\tGoogle Dialogflow: Dialogflow is a natural language understanding platform that makes it easy to design and integrate a conversational user interface into your mobile app, web application, device, bot, interactive voice response system, and so on.\n",
    "\n",
    "b)\tMicrosoft Bot Builder with LUIS: Azure Bot Service enables you to build intelligent, enterprise-grade bots with ownership and control of your data. \n",
    "\n",
    "c)\tAmazon Lex: Amazon Lex is a service for building conversational interfaces into any application using voice and text. Amazon Lex provides the advanced deep learning functionalities of automatic speech recognition (ASR) for converting speech to text, and natural language understanding (NLU) to recognize the intent of the text, to enable you to build applications with highly engaging user experiences and lifelike conversational interactions.\n",
    "\n",
    "d)\tRASA: Rasa provides infrastructure & tools necessary for high-performing, resilient, proprietary contextual assistants that work.\n",
    "\n",
    "e)\tWit.ai (Facebook): Wit.ai makes it easy for developers to build applications and devices that you can talk or text to.\n"
   ]
  },
  {
   "cell_type": "markdown",
   "metadata": {},
   "source": [
    "## Google Dialogflow"
   ]
  },
  {
   "cell_type": "markdown",
   "metadata": {},
   "source": [
    "Dialogflow is a natural language understanding platform used to design and integrate a conversational user interface into mobile apps, web applications, devices, bots, interactive voice response systems, and so on."
   ]
  },
  {
   "cell_type": "markdown",
   "metadata": {},
   "source": [
    "## Sign up for dialogflow"
   ]
  },
  {
   "cell_type": "markdown",
   "metadata": {},
   "source": [
    "a)\tGo to https://dialogflow.com/ and click on ‘Sign Up for Free’ button. \n",
    "\n",
    "b)\tClick ‘sign-in with Google’.\n",
    "\n",
    "c)\tSelect your google account and once you are redirected, click on ‘Go To Console’ on the upper right corner of the screen."
   ]
  },
  {
   "cell_type": "markdown",
   "metadata": {},
   "source": [
    "## Dialogflow Console"
   ]
  },
  {
   "cell_type": "markdown",
   "metadata": {},
   "source": [
    "Dialogflow provides a web user interface called the Dialogflow Console (open console). You use this console to create, build, and test agents. The uses are:\n",
    "\n",
    "•\tCreate Agents\n",
    "\n",
    "•\tCreate Intents\n",
    "\n",
    "•\tCreate entities\n",
    "\n",
    "•\tFulfillment to connect to other APIs.\n",
    "\n",
    "•\tIntegrate the bot with other platforms.\n",
    "\n",
    "•\tAnalyze agent performance\n",
    "\n",
    "•\tTest the agent in conversation simulator.\n",
    "\n"
   ]
  },
  {
   "cell_type": "markdown",
   "metadata": {},
   "source": [
    "## Building a chatbot using google Dialogflow"
   ]
  },
  {
   "cell_type": "markdown",
   "metadata": {},
   "source": [
    "#### Problem Statement"
   ]
  },
  {
   "cell_type": "markdown",
   "metadata": {},
   "source": [
    "Build a covid-19 chatbots, which will be able to tell us a number of cases availabe in any of the locality by there there pincode or district or state. and it will give give all the instruction and preventative measures  "
   ]
  },
  {
   "cell_type": "markdown",
   "metadata": {},
   "source": [
    "## Creting Agent"
   ]
  },
  {
   "cell_type": "markdown",
   "metadata": {},
   "source": [
    "a) Click on Create Agent from the left menu.\n",
    "\n",
    "b) Provide the name of the agent and click on the SAVE button to create the Agent.\n",
    "\n",
    "c)\tAfter saving, the agent is shown in the left hand side of your console. You can click the gear icon (highilighted in orange) to edit the agent settings."
   ]
  },
  {
   "cell_type": "markdown",
   "metadata": {},
   "source": [
    "## Intent: \n",
    "\n",
    "An intent categorizes an end-user's intention for one conversation turn. For each agent, you define many intents, where your combined intents can handle a complete conversation. When an end-user writes or says something, referred to as an end-user expression, Dialogflow matches the end-user expression to the best intent in your agent. Matching an intent is also known as intent classification.\n",
    "\n",
    "The following diagram shows the basic flow for intent matching and responding to the end-user:\n"
   ]
  },
  {
   "cell_type": "markdown",
   "metadata": {},
   "source": [
    "## Creating an Intent:\n",
    "\n",
    "Click the + add button next to Intents in the left sidebar menu. Enter a name for your intent. Your intent name should represent the end-user expressions it recognizes and click Save.\n",
    " \n",
    "## Training Phrases:\n",
    "\n",
    "Training phrases are example phrases for what end-users might type or say, referred to as end-user expressions. For each intent, you create many training phrases. When an end-user expression resembles one of these phrases, Dialogflow matches the intent.\n",
    "\n",
    "Adding the training Phrases:\n",
    "\n",
    "a)\tClick the text field that shows \"Add user expression\".\n",
    "\n",
    "b)\tType your training phrases and press the Enter key after each.\n"
   ]
  },
  {
   "cell_type": "markdown",
   "metadata": {},
   "source": [
    "## Extracting the Entities:\n",
    "\n",
    "When an intent is matched at runtime, Dialogflow provides the extracted values from the end-user expression as parameters. Each parameter has a type, called the entity type, which dictates exactly how the data is extracted. Unlike raw end-user input, parameters are structured data that can easily be used to perform some logic or generate responses.\n",
    "Each intent parameter has a type, called the entity type, which dictates exactly how data from an end-user expression is extracted.\n",
    "\n",
    "Dialogflow provides predefined system entities that can match many common types of data. For example, there are system entities for matching dates, times, colors, email addresses, and so on. You can also create your own custom entities for matching custom data.\n"
   ]
  },
  {
   "cell_type": "code",
   "execution_count": 9,
   "metadata": {},
   "outputs": [
    {
     "data": {
      "text/html": [
       "<img src=\"Capture.png\" width=800,height=600>\n"
      ],
      "text/plain": [
       "<IPython.core.display.HTML object>"
      ]
     },
     "metadata": {},
     "output_type": "display_data"
    }
   ],
   "source": [
    "%%html\n",
    "<img src=\"Capture.png\" width=800,height=600>"
   ]
  },
  {
   "cell_type": "markdown",
   "metadata": {},
   "source": [
    "## Fulfillment:\n",
    "By default, your agent responds to a matched intent with a static response. If you're using one of the integration options, you can provide a more dynamic response by using fulfillment. When you enable fulfillment for an intent, Dialogflow responds to that intent by calling a service that you define. For example, if an end-user wants to schedule a haircut on Friday, your service can check your database and respond to the end-user with availability information for Friday.\n",
    "Each intent has a setting to enable fulfillment. If an intent requires some action by your system or a dynamic response, you should enable fulfillment for the intent. If an intent without fulfillment enabled is matched, Dialogflow uses the static response you defined for the intent.\n",
    "\n",
    "When an intent with fulfillment enabled is matched, Dialogflow sends a request to your webhook service with information about the matched intent. Your system can perform any required actions and respond to Dialogflow with information for how to proceed. The following diagram shows the processing flow for fulfillment.\n",
    " \n",
    "a)\tThe end-user types or speaks an expression.\n",
    "\n",
    "b)\tDialogflow matches the end-user expression to an intent and extracts parameters.\n",
    "\n",
    "c)\tDialogflow sends a webhook request message to your webhook service. This message contains information about the matched intent, the action, the parameters, and the response defined for the intent.\n",
    "\n",
    "d)\tYour service performs actions as needed, like database queries or external API calls.\n",
    "\n",
    "e)\tYour service sends a webhook response message to Dialogflow. This message contains the response that should be sent to the end-user.\n",
    "\n",
    "f)\tDialogflow sends the response to the end-user.\n",
    "\n",
    "g)\tThe end-user sees or hears the response.\n",
    "\n",
    "#### Functionalities achived in fulfilment:\n",
    "\n",
    "a)\tSending an email to the customer with the syllabus and all the course details based on the course selected.\n",
    "\n",
    "b)\tSending an email to the Support team to further contact the customer for further clarification.\n",
    "\n",
    "#### Webhook for fulfilment:\n",
    "\n",
    "a)\tSelect Fulfillment in the left sidebar menu.\n",
    "\n",
    "b)\tToggle the Webhook field to Enabled.\n",
    "\n",
    "c)\tProvide the details for your webhook service in the form. If your webhook doesn't require authentication, leave the authentication fields blank.\n",
    "\n",
    "d)\tClick Save at the bottom of the page.\n"
   ]
  },
  {
   "cell_type": "markdown",
   "metadata": {},
   "source": [
    "## Knowledge base:\n",
    "\n",
    "Knowledge connectors complement defined intents. They parse knowledge documents (for example, FAQs or articles) to find automated responses. To configure them, you define one or more knowledge bases, which are collections of knowledge documents.\n",
    "For this project, we have created a knowledge document which contains all the FAQs of the sudents and we have integrated the same with the bot."
   ]
  },
  {
   "cell_type": "markdown",
   "metadata": {},
   "source": [
    "## Integration with Telegram:\n",
    "\n",
    "Dialogflow Telegram Integration allows you to easily create Telegram bots with natural language understanding based on the Dialogflow technology.\n",
    "\n",
    "In order to set up the Telegram integration for your agent, you'll need the following:\n",
    "\n",
    "a)\t Telegram account.\n",
    "\n",
    "Creating a Bot in Telegram\n",
    "\n",
    "a)\tLogin to Telegram and go to https://telegram.me/botfather\n",
    "\n",
    "b)\tClick the Start button in the web interface or type /start\n",
    "\n",
    "c)\tClick on or type /newbot and enter a name\n",
    "\n",
    "d)\tEnter a username for the bot, ending in \"bot\" (e.g. garthsweatherbot)\n",
    "\n",
    "e)\tCopy the generated access token\n"
   ]
  },
  {
   "cell_type": "markdown",
   "metadata": {},
   "source": [
    "## Setting Up Dialogflow\n",
    "\n",
    "a)\tIn Dialogflow, go to Integrations in the left hand menu\n",
    "\n",
    "b)\tClick on the Telegram tile\n",
    "\n",
    "c)\tPaste the Access Token into the related field\n",
    "\n",
    "d)\tClick the Start button\n",
    "\n"
   ]
  },
  {
   "cell_type": "code",
   "execution_count": null,
   "metadata": {},
   "outputs": [],
   "source": []
  }
 ],
 "metadata": {
  "kernelspec": {
   "display_name": "Python 3",
   "language": "python",
   "name": "python3"
  },
  "language_info": {
   "codemirror_mode": {
    "name": "ipython",
    "version": 3
   },
   "file_extension": ".py",
   "mimetype": "text/x-python",
   "name": "python",
   "nbconvert_exporter": "python",
   "pygments_lexer": "ipython3",
   "version": "3.7.6"
  }
 },
 "nbformat": 4,
 "nbformat_minor": 4
}
